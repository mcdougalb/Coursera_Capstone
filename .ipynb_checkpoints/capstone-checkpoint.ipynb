{
 "cells": [
  {
   "cell_type": "markdown",
   "metadata": {},
   "source": [
    "# IBM DATA SCIENCE CAPSTONE PROJECT\n",
    "\n",
    "> Hello this the notebook for the capstone that involves locational data. Really missing ArcGIS from ESRI here but it should go well anyways "
   ]
  },
  {
   "cell_type": "code",
   "execution_count": 1,
   "metadata": {},
   "outputs": [
    {
     "name": "stdout",
     "output_type": "stream",
     "text": [
      "1.0.5\n"
     ]
    }
   ],
   "source": [
    "import pandas as pd \n",
    "import numpy as np\n",
    "import folium\n",
    "from sklearn import KMeans\n",
    "from geopy.geocoders import Nominatim\n",
    "import requests\n",
    "from pandas import json_normalize # tranform JSON file into a pandas dataframe\n",
    "\n",
    "# Matplotlib and associated plotting modules\n",
    "import matplotlib.cm as cm\n",
    "import matplotlib.colors as colors\n",
    "\n",
    "print(pd.__version__)"
   ]
  },
  {
   "cell_type": "code",
   "execution_count": 2,
   "metadata": {},
   "outputs": [
    {
     "name": "stdout",
     "output_type": "stream",
     "text": [
      "Hello Capstone Project Course\n"
     ]
    }
   ],
   "source": [
    "print(\"Hello Capstone Project Course\")"
   ]
  },
  {
   "cell_type": "markdown",
   "metadata": {},
   "source": [
    "# Introduction\n",
    "\n",
    "### Failed Ideas\n",
    "\n",
    "1. My hometown has  alot of grocery stores clustered in the middle of it and everyone as the city has grown has to drive in. I would like to identify where new grocery stores would be best put to reach a good number of people and be away form the others. That is to say to stop making people drive in so far to get a to a store.\n",
    "2. Do the same as one but for gas stations which are in a similar situation.\n",
    "\n",
    "#### Why They Failed \n",
    "\n",
    "Why they failed is due to the fact that my homeotwn of about 60,000 people being the second largest in my state is too small to have enough data to do this on. I can get the gas stations and grocery store locations. but the smallest geographical boundaries I could obtain where zipcodes. The zipcodes as shown on the official USA zipcode map had one small inner city one and then there was a second one that covered most of the rest the city. Then the edges of the city barely reached into 4 additioonal zipcode areas. These would not have been good break downs for a distribution within my city for the above problems. So I couldn't do anything smaller than a city level analysis in my hometown. \n",
    "\n",
    "#### Other Failed Ideas\n",
    "I also considred that since my state has lots of National Forests and campgrounds. I could identify different qualities of campgrounds and build a state camping map by campsite quality. This failed as Foursquare does not contain any information for campgrounds in National Forest Land. While I could get that data from the National Forest Service directly, there would be no use of Foursquare in the analysis which is required.\n",
    "\n",
    "#### So What did I do\n",
    "\n",
    "I decided at this point that my hometown which I love is a bad idea for data science application. So, Idecided to go with a simpler and in the end a more personal application as follows below.\n",
    "\n",
    "## The problem\n",
    "\n",
    "#### The Audience\n",
    "\n",
    "> My Audience is my Family and anyone else who wants to live in a quiter, less populous area, without all the fancy attractions but still has stuff to do simialr tomy Hometown of Idaho Falls, Idaho\n",
    "\n",
    "#### The Background\n",
    "\n",
    "> Recent college graduates and those just starting their own family often worry greatly about where to live. This is usually decided for them by a job as to what city, state or country thier job is loccated in. However within a given city, state or country, there is a great diversity between states, counties, or even different neighborhoods. Thus keepign in trying to live somewhere similar to where they grew up but still having opportunity to have work with good wages.\n",
    "\n",
    "> Directly with my comparison my city I grew up in is small enough that many would laugh at it being called a city at around 60,000 people and about 5 square miles. Jobs are more limited to a few big employers or owning/managing your own business. Thus I adn many other young adults are lookign at moving to bigger cities even if that is not ideal for ourlifestyle, habits, and upbringing.\n",
    "\n",
    "#### The Question\n",
    "\n",
    "> Are there other Counties similar to the one I grew up otehr places in the Nation where job opportunites and wages are better?\n",
    "\n",
    "#### Limitations\n",
    "\n",
    "> As there are several thousand cities in America with great differences in size. I have decided instead of using cities to use counties which are a more equal distribution as large cities and metropolian areas that cover multiple counties can be split into pieces and small places where several cities are in a county can be grouped together. \n",
    "\n",
    "> Also, I am going to further restrict the counties to ones that are more simialr in population as well to further balance the scale appropriately. I will work with counties between 50,000 and 500,000 thousand people. This removes a little more than the top 100 most populous counties in the US acorrding to 2010 Census population counts as reported on teh following wikipedia page [Most Populous Counties in the US](https://en.wikipedia.org/wiki/List_of_the_most_populous_counties_in_the_United_States)\n",
    "\n",
    "> I am basing similarity of counties on venue types as I believe that refelcts the culture and welath of the area quite well. That alongside the population should allow me to find areas similar to where I grew up."
   ]
  },
  {
   "cell_type": "markdown",
   "metadata": {},
   "source": [
    "# Data\n",
    "\n",
    "### Outside of Foursquare\n",
    "\n",
    "> I will use the county name and population columns of the table of American county information as from wikipedia's list here [Wikiepdia American Counties](https://en.wikipedia.org/wiki/List_of_United_States_counties_and_county_equivalents)\n",
    "\n",
    "> County names lets me group my data geographically. County Population helsp to define simialrity between counties\n",
    "\n",
    "### Within Foursquare\n",
    "> I also will use Foursquare data of venue types as was done with the Toronto data as a measure of similarity of culture and wealth of the county."
   ]
  },
  {
   "cell_type": "code",
   "execution_count": null,
   "metadata": {},
   "outputs": [],
   "source": []
  }
 ],
 "metadata": {
  "kernelspec": {
   "display_name": "Python 3",
   "language": "python",
   "name": "python3"
  },
  "language_info": {
   "codemirror_mode": {
    "name": "ipython",
    "version": 3
   },
   "file_extension": ".py",
   "mimetype": "text/x-python",
   "name": "python",
   "nbconvert_exporter": "python",
   "pygments_lexer": "ipython3",
   "version": "3.7.4"
  }
 },
 "nbformat": 4,
 "nbformat_minor": 2
}
