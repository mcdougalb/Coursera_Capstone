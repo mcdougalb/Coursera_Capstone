{
 "cells": [
  {
   "cell_type": "markdown",
   "metadata": {},
   "source": [
    "# IBM DATA SCIENCE CAPSTONE PROJECT\n",
    "\n",
    "> Hello this the notebook for the capstone that involves locational data. Really missing ArcGIS from ESRI here but it should go well anyways "
   ]
  },
  {
   "cell_type": "code",
   "execution_count": 1,
   "metadata": {},
   "outputs": [
    {
     "name": "stdout",
     "output_type": "stream",
     "text": [
      "1.0.5\n"
     ]
    }
   ],
   "source": [
    "import pandas as pd \n",
    "import numpy as np\n",
    "import folium\n",
    "from sklearn import KMeans\n",
    "from geopy.geocoders import Nominatim\n",
    "import requests\n",
    "from pandas import json_normalize # tranform JSON file into a pandas dataframe\n",
    "\n",
    "# Matplotlib and associated plotting modules\n",
    "import matplotlib.cm as cm\n",
    "import matplotlib.colors as colors\n",
    "\n",
    "print(pd.__version__)"
   ]
  },
  {
   "cell_type": "code",
   "execution_count": 2,
   "metadata": {},
   "outputs": [
    {
     "name": "stdout",
     "output_type": "stream",
     "text": [
      "Hello Capstone Project Course\n"
     ]
    }
   ],
   "source": [
    "print(\"Hello Capstone Project Course\")"
   ]
  },
  {
   "cell_type": "markdown",
   "metadata": {},
   "source": [
    "## Introduction\n",
    "\n",
    "> After several ideas I had didn't have enough data or getting location data proved to be too hard to do. I will just do a basic one for my personal use. I want to know if there are other counties in America similar to my home. This is to see where I might like to live and work. I am looking at this as I just recently graduated from college and am looking for work. I like where I have lived growing up but the wages and job opportunities are not great unless you are a large scale farmer, a goverment employeee or a manger/owner of a business. Not great for someone just starting out on the career ladder. so moving for work is almost a given necessity for the time being."
   ]
  },
  {
   "cell_type": "markdown",
   "metadata": {},
   "source": [
    "## Data\n",
    "\n",
    "> I will use basic American county informationas form wikipedias list here [Wikiepdia American Counties](https://en.wikipedia.org/wiki/List_of_United_States_counties_and_county_equivalents). I also will use Foursquare data of venues alongside the county population from the county table."
   ]
  },
  {
   "cell_type": "code",
   "execution_count": null,
   "metadata": {},
   "outputs": [],
   "source": []
  }
 ],
 "metadata": {
  "kernelspec": {
   "display_name": "Python 3",
   "language": "python",
   "name": "python3"
  },
  "language_info": {
   "codemirror_mode": {
    "name": "ipython",
    "version": 3
   },
   "file_extension": ".py",
   "mimetype": "text/x-python",
   "name": "python",
   "nbconvert_exporter": "python",
   "pygments_lexer": "ipython3",
   "version": "3.7.4"
  }
 },
 "nbformat": 4,
 "nbformat_minor": 2
}
